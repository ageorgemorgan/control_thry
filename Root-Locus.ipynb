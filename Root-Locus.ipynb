{
 "cells": [
  {
   "cell_type": "code",
   "execution_count": 9,
   "metadata": {},
   "outputs": [],
   "source": [
    "import control as ctrl\n",
    "from matplotlib import pyplot as plt\n",
    "%matplotlib inline"
   ]
  },
  {
   "cell_type": "code",
   "execution_count": 10,
   "metadata": {},
   "outputs": [],
   "source": [
    "s = ctrl.tf([1, 0], 1)"
   ]
  },
  {
   "cell_type": "markdown",
   "metadata": {},
   "source": [
    "Here we define some helper functions. To test out different loops, simple change the control $H$ or the plant $P.$"
   ]
  },
  {
   "cell_type": "code",
   "execution_count": 11,
   "metadata": {},
   "outputs": [],
   "source": [
    "def rlocus(tau_p, a):\n",
    "    P = 1/(s+tau_p)\n",
    "    H = a+4/s\n",
    "\n",
    "    CL = P/(1 + P* H)\n",
    "    ctrl.root_locus(CL)\n",
    "    plt.title('Root Locus Diagram for 1+KPH')\n",
    "\n",
    "def pmap(tau_p, a,K):\n",
    "    P = 1/(s+tau_p)\n",
    "    H = a+4/s\n",
    "\n",
    "    CL =1+ K*P*H\n",
    "    ctrl.pzmap(CL)\n",
    "    plt.title('Zeros and Poles of 1+KPH')"
   ]
  },
  {
   "cell_type": "code",
   "execution_count": 12,
   "metadata": {},
   "outputs": [],
   "source": [
    "from ipywidgets import interact"
   ]
  },
  {
   "cell_type": "markdown",
   "metadata": {},
   "source": [
    "Play with the Parameters to see the position of the zeros and poles of the system for different values of the parameters."
   ]
  },
  {
   "cell_type": "code",
   "execution_count": 13,
   "metadata": {},
   "outputs": [
    {
     "data": {
      "application/vnd.jupyter.widget-view+json": {
       "model_id": "7207eed767f14442b748ede8f47dd1e1",
       "version_major": 2,
       "version_minor": 0
      },
      "text/plain": [
       "interactive(children=(FloatSlider(value=1.05, description='tau_p', max=2.0, min=0.1), FloatSlider(value=5.005,…"
      ]
     },
     "metadata": {},
     "output_type": "display_data"
    },
    {
     "data": {
      "text/plain": [
       "<function __main__.pmap(tau_p, a, K)>"
      ]
     },
     "execution_count": 13,
     "metadata": {},
     "output_type": "execute_result"
    }
   ],
   "source": [
    "interact(pmap, tau_p=(0.1, 2.), a=(0.01, 10), K=(0.01, 10))"
   ]
  },
  {
   "cell_type": "markdown",
   "metadata": {},
   "source": [
    "Alternatively it is much easier to see the behavior for different $K$ with a Root Locus Diagram."
   ]
  },
  {
   "cell_type": "code",
   "execution_count": 14,
   "metadata": {},
   "outputs": [
    {
     "data": {
      "application/vnd.jupyter.widget-view+json": {
       "model_id": "6541fc71e0ed46dbabbd7f40557f215e",
       "version_major": 2,
       "version_minor": 0
      },
      "text/plain": [
       "interactive(children=(FloatSlider(value=1.05, description='tau_p', max=2.0, min=0.1), FloatSlider(value=5.005,…"
      ]
     },
     "metadata": {},
     "output_type": "display_data"
    },
    {
     "data": {
      "text/plain": [
       "<function __main__.rlocus(tau_p, a)>"
      ]
     },
     "execution_count": 14,
     "metadata": {},
     "output_type": "execute_result"
    }
   ],
   "source": [
    "interact(rlocus, tau_p=(0.1, 2.), a=(0.01, 10), K=(0.1, 10))"
   ]
  }
 ],
 "metadata": {
  "kernelspec": {
   "display_name": "Python (here)",
   "language": "python",
   "name": "here"
  },
  "language_info": {
   "codemirror_mode": {
    "name": "ipython",
    "version": 3
   },
   "file_extension": ".py",
   "mimetype": "text/x-python",
   "name": "python",
   "nbconvert_exporter": "python",
   "pygments_lexer": "ipython3",
   "version": "3.12.2"
  }
 },
 "nbformat": 4,
 "nbformat_minor": 4
}
